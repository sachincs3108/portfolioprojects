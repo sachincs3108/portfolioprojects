{
  "nbformat": 4,
  "nbformat_minor": 0,
  "metadata": {
    "colab": {
      "name": "OT7_Simulated_Annealing.ipynb",
      "provenance": [],
      "include_colab_link": true
    },
    "kernelspec": {
      "name": "python3",
      "display_name": "Python 3"
    },
    "language_info": {
      "name": "python"
    }
  },
  "cells": [
    {
      "cell_type": "markdown",
      "metadata": {
        "id": "view-in-github",
        "colab_type": "text"
      },
      "source": [
        "<a href=\"https://colab.research.google.com/github/sachincs3108/portfolioprojects/blob/main/OT7_Simulated_Annealing.ipynb\" target=\"_parent\"><img src=\"https://colab.research.google.com/assets/colab-badge.svg\" alt=\"Open In Colab\"/></a>"
      ]
    },
    {
      "cell_type": "markdown",
      "source": [
        "Simulated annealing is a stochastic global search algorithm for function optimization.\n",
        "\n",
        "The algorithm is inspired by annealing in metallurgy where metal is heated to a high temperature quickly, then cooled slowly, which increases its strength and makes it easier to work with.\n",
        "\n",
        "The annealing process works by first exciting the atoms in the material at a high temperature, allowing the atoms to move around a lot, then decreasing their excitement slowly, allowing the atoms to fall into a new, more stable configuration.\n",
        "\n",
        "The simulated annealing optimization algorithm can be thought of as a modified version of stochastic hill climbing.\n",
        "\n",
        "Stochastic hill climbing maintains a single candidate solution and takes steps of a random but constrained size from the candidate in the search space. If the new point is better than the current point, then the current point is replaced with the new point. This process continues for a fixed number of iterations.\n",
        "\n",
        "Simulated annealing executes the search in the same way. The main difference is that new points that are not as good as the current point (worse points) are accepted sometimes.\n",
        "\n",
        "A worse point is accepted probabilistically where the likelihood of accepting a solution worse than the current solution is a function of the temperature of the search and how much worse the solution is than the current solution."
      ],
      "metadata": {
        "id": "zWXw-Ih5XGGy"
      }
    },
    {
      "cell_type": "code",
      "source": [
        "# simulated annealing search of a one-dimensional objective function\n",
        "from numpy import asarray\n",
        "from numpy import exp\n",
        "from numpy.random import randn\n",
        "from numpy.random import rand\n",
        "from numpy.random import seed"
      ],
      "metadata": {
        "id": "xwOYcUQsWjy4"
      },
      "execution_count": null,
      "outputs": []
    },
    {
      "cell_type": "markdown",
      "source": [
        "First, we must define our objective function and the bounds on each input variable to the objective function. The objective function is just a Python function we will name objective(). The bounds will be a 2D array with one dimension for each input variable that defines the minimum and maximum for the variable.\n",
        "\n",
        "For example, a one-dimensional objective function and bounds would be defined as follows:"
      ],
      "metadata": {
        "id": "zV4Mv-PtXps5"
      }
    },
    {
      "cell_type": "code",
      "source": [
        "# objective function\n",
        "def objective(x):\n",
        "\treturn x[0]**2.0\n"
      ],
      "metadata": {
        "id": "6RNiiCjwWmpX"
      },
      "execution_count": null,
      "outputs": []
    },
    {
      "cell_type": "markdown",
      "source": [
        "We can implement this simulated annealing algorithm as a reusable function that takes the name of the objective function, the bounds of each input variable, the total iterations, step size, and initial temperature as arguments, and returns the best solution found and its evaluation."
      ],
      "metadata": {
        "id": "kw7Ccc69X6Ev"
      }
    },
    {
      "cell_type": "code",
      "execution_count": null,
      "metadata": {
        "id": "cbJHRnTyWRt8"
      },
      "outputs": [],
      "source": [
        "# simulated annealing algorithm\n",
        "def simulated_annealing(objective, bounds, n_iterations, step_size, temp):\n",
        "\t# generate an initial point\n",
        "\tbest = bounds[:, 0] + rand(len(bounds)) * (bounds[:, 1] - bounds[:, 0])\n",
        "\t# evaluate the initial point\n",
        "\tbest_eval = objective(best)\n",
        "\t# current working solution\n",
        "\tcurr, curr_eval = best, best_eval\n",
        "\t# run the algorithm\n",
        "\tfor i in range(n_iterations):\n",
        "\t\t# take a step\n",
        "\t\tcandidate = curr + randn(len(bounds)) * step_size\n",
        "\t\t# evaluate candidate point\n",
        "\t\tcandidate_eval = objective(candidate)\n",
        "\t\t# check for new best solution\n",
        "\t\tif candidate_eval < best_eval:\n",
        "\t\t\t# store new best point\n",
        "\t\t\tbest, best_eval = candidate, candidate_eval\n",
        "\t\t\t# report progress\n",
        "\t\t\tprint('>%d f(%s) = %.5f' % (i, best, best_eval))\n",
        "\t\t# difference between candidate and current point evaluation\n",
        "\t\tdiff = candidate_eval - curr_eval\n",
        "\t\t# calculate temperature for current epoch\n",
        "\t\tt = temp / float(i + 1)\n",
        "\t\t# calculate metropolis acceptance criterion\n",
        "\t\tmetropolis = exp(-diff / t)\n",
        "\t\t# check if we should keep the new point\n",
        "\t\tif diff < 0 or rand() < metropolis:\n",
        "\t\t\t# store the new current point\n",
        "\t\t\tcurr, curr_eval = candidate, candidate_eval\n",
        "\treturn [best, best_eval]\n",
        " \n"
      ]
    },
    {
      "cell_type": "markdown",
      "source": [
        "we will apply the simulated annealing optimization algorithm to an objective function.\n",
        "\n",
        "First, let’s define our objective function.\n",
        "\n",
        "We will use a simple one-dimensional x^2 objective function with the bounds [-5, 5].\n",
        "\n",
        "\n",
        "Running the example creates a line plot of the objective function and clearly marks the function optima."
      ],
      "metadata": {
        "id": "Q9ObasoFYXep"
      }
    },
    {
      "cell_type": "code",
      "source": [
        "# convex unimodal optimization function\n",
        "from numpy import arange\n",
        "from matplotlib import pyplot\n",
        " \n",
        "# objective function\n",
        "def objective(x):\n",
        "\treturn x[0]**2.0\n",
        " \n",
        "# define range for input\n",
        "r_min, r_max = -5.0, 5.0\n",
        "# sample input range uniformly at 0.1 increments\n",
        "inputs = arange(r_min, r_max, 0.1)\n",
        "# compute targets\n",
        "results = [objective([x]) for x in inputs]\n",
        "# create a line plot of input vs result\n",
        "pyplot.plot(inputs, results)\n",
        "# define optimal input value\n",
        "x_optima = 0.0\n",
        "# draw a vertical line at the optimal input\n",
        "pyplot.axvline(x=x_optima, ls='--', color='red')\n",
        "# show the plot\n",
        "pyplot.show()"
      ],
      "metadata": {
        "colab": {
          "base_uri": "https://localhost:8080/",
          "height": 265
        },
        "id": "H7Ta9XxqYslY",
        "outputId": "309799f6-62b8-4d12-e870-dd8c4c3d36de"
      },
      "execution_count": null,
      "outputs": [
        {
          "output_type": "display_data",
          "data": {
            "text/plain": [
              "<Figure size 432x288 with 1 Axes>"
            ],
            "image/png": "[encoded data removed]"
          },
          "metadata": {
            "needs_background": "light"
          }
        }
      ]
    },
    {
      "cell_type": "markdown",
      "source": [
        "Before we apply the optimization algorithm to the problem, let’s take a moment to understand the acceptance criterion a little better.\n",
        "\n",
        "First, the fast annealing schedule is an exponential function of the number of iterations. We can make this clear by creating a plot of the temperature for each algorithm iteration.\n",
        "\n",
        "We will use an initial temperature of 10 and 100 algorithm iterations, both arbitrarily chosen.\n",
        "\n",
        "\n",
        "Running the example calculates the temperature for each algorithm iteration and creates a plot of algorithm iteration (x-axis) vs. temperature (y-axis).\n",
        "\n",
        "We can see that temperature drops rapidly, exponentially, not linearly, such that after 20 iterations it is below 1 and stays low for the remainder of the search."
      ],
      "metadata": {
        "id": "qSauZcUYZAsX"
      }
    },
    {
      "cell_type": "code",
      "source": [
        "# explore temperature vs algorithm iteration for simulated annealing\n",
        "from matplotlib import pyplot\n",
        "# total iterations of algorithm\n",
        "iterations = 100\n",
        "# initial temperature\n",
        "initial_temp = 10\n",
        "# array of iterations from 0 to iterations - 1\n",
        "iterations = [i for i in range(iterations)]\n",
        "# temperatures for each iterations\n",
        "temperatures = [initial_temp/float(i + 1) for i in iterations]\n",
        "# plot iterations vs temperatures\n",
        "pyplot.plot(iterations, temperatures)\n",
        "pyplot.xlabel('Iteration')\n",
        "pyplot.ylabel('Temperature')\n",
        "pyplot.show()"
      ],
      "metadata": {
        "colab": {
          "base_uri": "https://localhost:8080/",
          "height": 279
        },
        "id": "ZnWe-iAVZBgn",
        "outputId": "cf7d411f-4800-4c1d-9651-bffe4962a987"
      },
      "execution_count": null,
      "outputs": [
        {
          "output_type": "display_data",
          "data": {
            "text/plain": [
              "<Figure size 432x288 with 1 Axes>"
            ],
            "image/png": "[encoded data removed]"
          },
          "metadata": {
            "needs_background": "light"
          }
        }
      ]
    },
    {
      "cell_type": "code",
      "source": [
        "# seed the pseudorandom number generator\n",
        "seed(1)\n",
        "# define range for input\n",
        "bounds = asarray([[-5.0, 5.0]])\n",
        "# define the total iterations\n",
        "n_iterations = 1000\n",
        "# define the maximum step size\n",
        "step_size = 0.1\n",
        "# initial temperature\n",
        "temp = 10\n",
        "# perform the simulated annealing search\n",
        "best, score = simulated_annealing(objective, bounds, n_iterations, step_size, temp)\n",
        "print('Done!')\n",
        "print('f(%s) = %f' % (best, score))"
      ],
      "metadata": {
        "colab": {
          "base_uri": "https://localhost:8080/"
        },
        "id": "v539ZTn5Wu77",
        "outputId": "b1ded8fe-defb-455c-f2d2-f65c770a599a"
      },
      "execution_count": null,
      "outputs": [
        {
          "output_type": "stream",
          "name": "stdout",
          "text": [
            ">34 f([-0.78753544]) = 0.62021\n",
            ">35 f([-0.76914239]) = 0.59158\n",
            ">37 f([-0.68574854]) = 0.47025\n",
            ">39 f([-0.64797564]) = 0.41987\n",
            ">40 f([-0.58914623]) = 0.34709\n",
            ">41 f([-0.55446029]) = 0.30743\n",
            ">42 f([-0.41775702]) = 0.17452\n",
            ">43 f([-0.35038542]) = 0.12277\n",
            ">50 f([-0.15799045]) = 0.02496\n",
            ">66 f([-0.11089772]) = 0.01230\n",
            ">67 f([-0.09238208]) = 0.00853\n",
            ">72 f([-0.09145261]) = 0.00836\n",
            ">75 f([-0.05129162]) = 0.00263\n",
            ">93 f([-0.02854417]) = 0.00081\n",
            ">144 f([0.00864136]) = 0.00007\n",
            ">149 f([0.00753953]) = 0.00006\n",
            ">167 f([-0.00640394]) = 0.00004\n",
            ">225 f([-0.00044965]) = 0.00000\n",
            ">503 f([-0.00036261]) = 0.00000\n",
            ">512 f([0.00013605]) = 0.00000\n",
            "Done!\n",
            "f([0.00013605]) = 0.000000\n"
          ]
        }
      ]
    },
    {
      "cell_type": "markdown",
      "source": [
        "Running the example reports the progress of the search including the iteration number, the input to the function, and the response from the objective function each time an improvement was detected.\n",
        "\n",
        "At the end of the search, the best solution is found and its evaluation is reported.\n",
        "\n"
      ],
      "metadata": {
        "id": "efhD3FUOZl2Y"
      }
    }
  ]
}