{
  "nbformat": 4,
  "nbformat_minor": 0,
  "metadata": {
    "colab": {
      "name": "P1_Time_Complexity_Merge_Sort.ipynb",
      "provenance": [],
      "include_colab_link": true
    },
    "kernelspec": {
      "name": "python3",
      "display_name": "Python 3"
    },
    "language_info": {
      "name": "python"
    }
  },
  "cells": [
    {
      "cell_type": "markdown",
      "metadata": {
        "id": "view-in-github",
        "colab_type": "text"
      },
      "source": [
        "<a href=\"https://colab.research.google.com/github/sachincs3108/portfolioprojects/blob/main/P1_Time_Complexity_Merge_Sort.ipynb\" target=\"_parent\"><img src=\"https://colab.research.google.com/assets/colab-badge.svg\" alt=\"Open In Colab\"/></a>"
      ]
    },
    {
      "cell_type": "code",
      "execution_count": null,
      "metadata": {
        "colab": {
          "base_uri": "https://localhost:8080/"
        },
        "id": "9C2bPLHrJ3e4",
        "outputId": "e243f415-a1a1-478b-89ec-42d68d7d68a6"
      },
      "outputs": [
        {
          "output_type": "stream",
          "name": "stdout",
          "text": [
            "Enter the element: 7\n",
            "Continue? (Y/N): y\n",
            "Enter the element: 8\n",
            "Continue? (Y/N): \n",
            "Given array is\n",
            "7\n",
            "8\n",
            "\n",
            "\n",
            "Sorted array is\n",
            "7\n",
            "8\n",
            "Execution time =  5.412101745605469e-05\n"
          ]
        }
      ],
      "source": [
        "# merge() merges two subarrays of arr[1eft..right]\n",
        "# First subarray is arr[left..middle]\n",
        "# Second subarray is arr[middle+1..right]\n",
        "\n",
        "from time import time\n",
        "\n",
        "def merge(arr, left, middle, right):\n",
        "    n1 = middle - left + 1\n",
        "    n2 = right- middle\n",
        " \n",
        "    # create temp arrays\n",
        "    L = []\n",
        "    R = []\n",
        "    for i in range(0 , n1):\n",
        "        L.append(0)\n",
        " \n",
        "    for j in range(0 , n2):\n",
        "        R.append(0)\n",
        " \n",
        "    # Copy data to temp arrays L[] and R[]\n",
        "    for i in range(0 , n1):\n",
        "        L[i] = arr[left + i]\n",
        " \n",
        "    for j in range(0 , n2):\n",
        "        R[j] = arr[middle + 1 + j]\n",
        " \n",
        "    # Merge the temp arrays back into arr[l..r]\n",
        "    i = 0     # Starting index of first subarray\n",
        "    j = 0     # Starting index of second subarray\n",
        "    k = left     # Starting index of merged subarray\n",
        " \n",
        "    while i < n1 and j < n2 :\n",
        "        if L[i] <= R[j]:\n",
        "            arr[k] = L[i]\n",
        "            i += 1\n",
        "        else:\n",
        "            arr[k] = R[j]\n",
        "            j += 1\n",
        "        k += 1\n",
        " \n",
        "    # Copy the remaining elements of L[], if there are any\n",
        "    while i < n1:\n",
        "        arr[k] = L[i]\n",
        "        i += 1\n",
        "        k += 1\n",
        " \n",
        "    # Copy the remaining elements of R[], if there are any\n",
        "    while j < n2:\n",
        "        arr[k] = R[j]\n",
        "        j += 1\n",
        "        k += 1\n",
        " \n",
        "# left is for left index and right is right index of the\n",
        "# sub-array of arr to be sorted\n",
        "def mergeSort(arr,left,right):\n",
        "    if left < right:\n",
        "        middle = (left+(right-1))//2\n",
        " \n",
        "        # Sort first and second halves\n",
        "        mergeSort(arr, left, middle)\n",
        "        mergeSort(arr, middle+1, right)\n",
        "        merge(arr, left, middle, right)\n",
        "\n",
        "\n",
        "arr = []\n",
        "\n",
        "cont = 'Y'\n",
        "while cont == 'y' or cont == 'Y':\n",
        "    data = int(input('Enter the element: '))\n",
        "    arr.append(data)\n",
        "    cont = input('Continue? (Y/N): ')\n",
        "\n",
        "\n",
        "n = len(arr)\n",
        "print (\"Given array is\")\n",
        "for i in range(n):\n",
        "    print (arr[i])\n",
        "\n",
        "start_time = time()\n",
        "\n",
        "mergeSort(arr,0,n-1)\n",
        "\n",
        "end_time = time()\n",
        "\n",
        "elapsed = end_time - start_time\n",
        "\n",
        "print (\"\\n\\nSorted array is\")\n",
        "for i in range(n):\n",
        "    print (arr[i])\n",
        "\n",
        "print('Execution time = ', elapsed)\n"
      ]
    }
  ]
}