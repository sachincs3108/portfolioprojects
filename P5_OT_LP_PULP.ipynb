{
  "nbformat": 4,
  "nbformat_minor": 0,
  "metadata": {
    "colab": {
      "name": "P5_OT_LP_PULP.ipynb",
      "provenance": [],
      "include_colab_link": true
    },
    "kernelspec": {
      "name": "python3",
      "display_name": "Python 3"
    },
    "language_info": {
      "name": "python"
    }
  },
  "cells": [
    {
      "cell_type": "markdown",
      "metadata": {
        "id": "view-in-github",
        "colab_type": "text"
      },
      "source": [
        "<a href=\"https://colab.research.google.com/github/sachincs3108/portfolioprojects/blob/main/P5_OT_LP_PULP.ipynb\" target=\"_parent\"><img src=\"https://colab.research.google.com/assets/colab-badge.svg\" alt=\"Open In Colab\"/></a>"
      ]
    },
    {
      "cell_type": "markdown",
      "source": [
        "![lp-py-eq-2.webp](data:image/webp;base64,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)"
      ],
      "metadata": {
        "id": "sG5_frKrps4M"
      }
    },
    {
      "cell_type": "markdown",
      "source": [
        "PuLP has a more convenient linear programming API than SciPy. You don’t have to mathematically modify your problem or use vectors and matrices. Everything is cleaner and less prone to errors."
      ],
      "metadata": {
        "id": "Lf70TKEwwH20"
      }
    },
    {
      "cell_type": "code",
      "execution_count": null,
      "metadata": {
        "colab": {
          "base_uri": "https://localhost:8080/"
        },
        "id": "OFxQUWIroKvd",
        "outputId": "c46cb8af-e3c2-4b7a-c2fd-92272530a7da"
      },
      "outputs": [
        {
          "output_type": "stream",
          "name": "stdout",
          "text": [
            "Collecting pulp\n",
            "  Downloading PuLP-2.6.0-py3-none-any.whl (14.2 MB)\n",
            "\u001b[K     |████████████████████████████████| 14.2 MB 5.5 MB/s \n",
            "\u001b[?25hInstalling collected packages: pulp\n",
            "Successfully installed pulp-2.6.0\n"
          ]
        }
      ],
      "source": [
        "pip install pulp"
      ]
    },
    {
      "cell_type": "code",
      "source": [
        "from pulp import LpMaximize, LpProblem, LpStatus, lpSum, LpVariable"
      ],
      "metadata": {
        "id": "LyqoofmtpiNk"
      },
      "execution_count": null,
      "outputs": []
    },
    {
      "cell_type": "code",
      "source": [
        "# Create the model\n",
        "model = LpProblem(name=\"small-problem\", sense=LpMaximize)"
      ],
      "metadata": {
        "id": "wtNLxFonpmyW"
      },
      "execution_count": null,
      "outputs": []
    },
    {
      "cell_type": "markdown",
      "source": [
        "You use the sense parameter to choose whether to perform minimization (LpMinimize or 1, which is the default) or maximization (LpMaximize or -1). This choice will affect the result of your problem.\n",
        "\n",
        "Once that you have the model, you can define the decision variables as instances of the LpVariable class:"
      ],
      "metadata": {
        "id": "JY-TYXrXp4kt"
      }
    },
    {
      "cell_type": "code",
      "source": [
        "# Initialize the decision variables\n",
        "x = LpVariable(name=\"x\", lowBound=0)\n",
        "y = LpVariable(name=\"y\", lowBound=0)"
      ],
      "metadata": {
        "id": "eXZjgXK2p-Vc"
      },
      "execution_count": null,
      "outputs": []
    },
    {
      "cell_type": "markdown",
      "source": [
        "You need to provide a lower bound with lowBound=0 because the default value is negative infinity. The parameter upBound defines the upper bound, but you can omit it here because it defaults to positive infinity.\n",
        "\n",
        "The optional parameter cat defines the category of a decision variable. If you’re working with continuous variables, then you can use the default value \"Continuous\".\n",
        "\n",
        "You can use the variables x and y to create other PuLP objects that represent linear expressions and constraints:"
      ],
      "metadata": {
        "id": "xLJ3yWpjqCr9"
      }
    },
    {
      "cell_type": "code",
      "source": [
        "expression = 2 * x + 4 * y\n",
        "type(expression)"
      ],
      "metadata": {
        "colab": {
          "base_uri": "https://localhost:8080/"
        },
        "id": "t7ndSijQqF_t",
        "outputId": "e82d0f6f-07d1-4fc8-b02c-f30ba7c787e6"
      },
      "execution_count": null,
      "outputs": [
        {
          "output_type": "execute_result",
          "data": {
            "text/plain": [
              "pulp.pulp.LpAffineExpression"
            ]
          },
          "metadata": {},
          "execution_count": 5
        }
      ]
    },
    {
      "cell_type": "code",
      "source": [
        "constraint = 2 * x + 4 * y >= 8\n",
        "type(constraint)"
      ],
      "metadata": {
        "colab": {
          "base_uri": "https://localhost:8080/"
        },
        "id": "zPEp7DaWqOBN",
        "outputId": "b305f869-1c7a-4cd7-e437-9d86987638ce"
      },
      "execution_count": null,
      "outputs": [
        {
          "output_type": "execute_result",
          "data": {
            "text/plain": [
              "pulp.pulp.LpConstraint"
            ]
          },
          "metadata": {},
          "execution_count": 6
        }
      ]
    },
    {
      "cell_type": "markdown",
      "source": [
        "Having this in mind, the next step is to create the constraints and objective function as well as to assign them to your model. You don’t need to create lists or matrices. Just write Python expressions and use the += operator to append them to the model:"
      ],
      "metadata": {
        "id": "8Cv5ihjgqcP9"
      }
    },
    {
      "cell_type": "code",
      "source": [
        "# Add the constraints to the model\n",
        "model += (2 * x + y <= 20, \"red_constraint\")\n",
        "model += (4 * x - 5 * y >= -10, \"blue_constraint\")\n",
        "model += (-x + 2 * y >= -2, \"yellow_constraint\")\n",
        "model += (-x + 5 * y == 15, \"green_constraint\")"
      ],
      "metadata": {
        "id": "o9bQBrv2qdKM"
      },
      "execution_count": null,
      "outputs": []
    },
    {
      "cell_type": "markdown",
      "source": [
        "In the above code, you define tuples that hold the constraints and their names. LpProblem allows you to add constraints to a model by specifying them as tuples. The first element is a LpConstraint instance. The second element is a human-readable name for that constraint.\n",
        "\n",
        "Setting the objective function is very similar:"
      ],
      "metadata": {
        "id": "pIICK7BgqlXf"
      }
    },
    {
      "cell_type": "code",
      "source": [
        "# Add the objective function to the model\n",
        "obj_func = x + 2 * y\n",
        "model += obj_func"
      ],
      "metadata": {
        "id": "oNqQMdQaqmVN"
      },
      "execution_count": null,
      "outputs": []
    },
    {
      "cell_type": "markdown",
      "source": [
        "Now you have the objective function added and the model defined.\n",
        "\n",
        "For larger problems, it’s often more convenient to use lpSum() with a list or other sequence than to repeat the + operator. For example, you could add the objective function to the model with this statement:"
      ],
      "metadata": {
        "id": "FFgObPS4qw-O"
      }
    },
    {
      "cell_type": "code",
      "source": [
        "# Add the objective function to the model\n",
        "model += lpSum([x, 2 * y])"
      ],
      "metadata": {
        "colab": {
          "base_uri": "https://localhost:8080/"
        },
        "id": "VCu218OCq0ME",
        "outputId": "2dc8f122-44df-4e8d-e11e-868d02ee4c17"
      },
      "execution_count": null,
      "outputs": [
        {
          "output_type": "stream",
          "name": "stderr",
          "text": [
            "/usr/local/lib/python3.7/dist-packages/pulp/pulp.py:1704: UserWarning: Overwriting previously set objective.\n",
            "  warnings.warn(\"Overwriting previously set objective.\")\n"
          ]
        }
      ]
    },
    {
      "cell_type": "code",
      "source": [
        "model"
      ],
      "metadata": {
        "colab": {
          "base_uri": "https://localhost:8080/"
        },
        "id": "ASP4IGjHq9Tt",
        "outputId": "3dcf2041-c292-4393-c4c0-94db2d98048c"
      },
      "execution_count": null,
      "outputs": [
        {
          "output_type": "execute_result",
          "data": {
            "text/plain": [
              "small-problem:\n",
              "MAXIMIZE\n",
              "1*x + 2*y + 0\n",
              "SUBJECT TO\n",
              "red_constraint: 2 x + y <= 20\n",
              "\n",
              "blue_constraint: 4 x - 5 y >= -10\n",
              "\n",
              "yellow_constraint: - x + 2 y >= -2\n",
              "\n",
              "green_constraint: - x + 5 y = 15\n",
              "\n",
              "VARIABLES\n",
              "x Continuous\n",
              "y Continuous"
            ]
          },
          "metadata": {},
          "execution_count": 10
        }
      ]
    },
    {
      "cell_type": "markdown",
      "source": [
        "Finally, you’re ready to solve the problem. You can do that by calling .solve() on your model object. If you want to use the default solver (CBC), then you don’t need to pass any arguments:"
      ],
      "metadata": {
        "id": "awTGSp3prF9V"
      }
    },
    {
      "cell_type": "code",
      "source": [
        "# Solve the problem\n",
        "status = model.solve()"
      ],
      "metadata": {
        "id": "18jPuyfVrGnW"
      },
      "execution_count": null,
      "outputs": []
    },
    {
      "cell_type": "markdown",
      "source": [
        ".solve() calls the underlying solver, modifies the model object, and returns the integer status of the solution, which will be 1 if the optimum is found. For the rest of the status codes, see LpStatus[].\n",
        "\n",
        "You can get the optimization results as the attributes of model. The function value() and the corresponding method .value() return the actual values of the attributes:"
      ],
      "metadata": {
        "id": "rHA1UyaVrODd"
      }
    },
    {
      "cell_type": "code",
      "source": [
        "print(f\"status: {model.status}, {LpStatus[model.status]}\")"
      ],
      "metadata": {
        "colab": {
          "base_uri": "https://localhost:8080/"
        },
        "id": "vJ3FexBXrO7O",
        "outputId": "8e95d1e3-8df2-41d7-cec8-10f559de3c70"
      },
      "execution_count": null,
      "outputs": [
        {
          "output_type": "stream",
          "name": "stdout",
          "text": [
            "status: 1, Optimal\n"
          ]
        }
      ]
    },
    {
      "cell_type": "code",
      "source": [
        "print(f\"objective: {model.objective.value()}\")"
      ],
      "metadata": {
        "colab": {
          "base_uri": "https://localhost:8080/"
        },
        "id": "a16BLpyjrYdF",
        "outputId": "f532860e-3aa4-4e82-b3b8-5c09b40c0705"
      },
      "execution_count": null,
      "outputs": [
        {
          "output_type": "stream",
          "name": "stdout",
          "text": [
            "objective: 16.8181817\n"
          ]
        }
      ]
    },
    {
      "cell_type": "code",
      "source": [
        "for var in model.variables():\n",
        "...     print(f\"{var.name}: {var.value()}\")"
      ],
      "metadata": {
        "colab": {
          "base_uri": "https://localhost:8080/"
        },
        "id": "kvvKznP3rbdX",
        "outputId": "e09f0713-b31d-45b9-b20e-92791c55eb09"
      },
      "execution_count": null,
      "outputs": [
        {
          "output_type": "stream",
          "name": "stdout",
          "text": [
            "x: 7.7272727\n",
            "y: 4.5454545\n"
          ]
        }
      ]
    },
    {
      "cell_type": "code",
      "source": [
        "for name, constraint in model.constraints.items():\n",
        "...     print(f\"{name}: {constraint.value()}\")"
      ],
      "metadata": {
        "colab": {
          "base_uri": "https://localhost:8080/"
        },
        "id": "AVOOAexrrfVk",
        "outputId": "7ac0c2d9-d64a-474e-b692-1c4efd9b97b2"
      },
      "execution_count": null,
      "outputs": [
        {
          "output_type": "stream",
          "name": "stdout",
          "text": [
            "red_constraint: -9.99999993922529e-08\n",
            "blue_constraint: 18.181818300000003\n",
            "yellow_constraint: 3.3636362999999996\n",
            "green_constraint: -2.0000000233721948e-07\n"
          ]
        }
      ]
    },
    {
      "cell_type": "code",
      "source": [
        ""
      ],
      "metadata": {
        "id": "SeEcrUR6sCTt"
      },
      "execution_count": null,
      "outputs": []
    },
    {
      "cell_type": "markdown",
      "source": [
        "**Example-2**\n",
        "\n",
        "\n",
        "![lp-py-eq-4.webp](data:image/webp;base64,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)"
      ],
      "metadata": {
        "id": "9VzbfhulsA9m"
      }
    },
    {
      "cell_type": "code",
      "source": [
        "# Define the model\n",
        "model = LpProblem(name=\"resource-allocation\", sense=LpMaximize)\n",
        "\n",
        "# Define the decision variables\n",
        "x = {i: LpVariable(name=f\"x{i}\", lowBound=0) for i in range(1, 5)}\n",
        "\n",
        "# Add constraints\n",
        "model += (lpSum(x.values()) <= 50, \"manpower\")\n",
        "model += (3 * x[1] + 2 * x[2] + x[3] <= 100, \"material_a\")\n",
        "model += (x[2] + 2 * x[3] + 3 * x[4] <= 90, \"material_b\")\n",
        "\n",
        "# Set the objective\n",
        "model += 20 * x[1] + 12 * x[2] + 40 * x[3] + 25 * x[4]\n",
        "\n",
        "# Solve the optimization problem\n",
        "status = model.solve()\n",
        "\n",
        "# Get the results\n",
        "print(f\"status: {model.status}, {LpStatus[model.status]}\")\n",
        "print(f\"objective: {model.objective.value()}\")\n",
        "\n",
        "for var in x.values():\n",
        "    print(f\"{var.name}: {var.value()}\")\n",
        "\n",
        "for name, constraint in model.constraints.items():\n",
        "    print(f\"{name}: {constraint.value()}\")"
      ],
      "metadata": {
        "colab": {
          "base_uri": "https://localhost:8080/"
        },
        "id": "XIWLvxmtsHng",
        "outputId": "589ccf44-28f4-4798-b789-3145fab18d56"
      },
      "execution_count": null,
      "outputs": [
        {
          "output_type": "stream",
          "name": "stdout",
          "text": [
            "status: 1, Optimal\n",
            "objective: 1900.0\n",
            "x1: 5.0\n",
            "x2: 0.0\n",
            "x3: 45.0\n",
            "x4: 0.0\n",
            "manpower: 0.0\n",
            "material_a: -40.0\n",
            "material_b: 0.0\n"
          ]
        }
      ]
    }
  ]
}